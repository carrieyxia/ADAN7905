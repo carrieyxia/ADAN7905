{
 "cells": [
  {
   "cell_type": "code",
   "execution_count": 1,
   "id": "cac35aeb",
   "metadata": {},
   "outputs": [
    {
     "name": "stderr",
     "output_type": "stream",
     "text": [
      "C:\\App\\Anaconda3\\lib\\site-packages\\scipy\\__init__.py:146: UserWarning: A NumPy version >=1.16.5 and <1.23.0 is required for this version of SciPy (detected version 1.23.4\n",
      "  warnings.warn(f\"A NumPy version >={np_minversion} and <{np_maxversion}\"\n"
     ]
    }
   ],
   "source": [
    "import pandas as pd\n",
    "import numpy as np\n",
    "from zipfile import ZipFile\n",
    "import tensorflow as tf\n",
    "from tensorflow import keras\n",
    "from tensorflow.keras import layers\n",
    "from pathlib import Path\n",
    "import matplotlib.pyplot as plt\n",
    "import os\n",
    "import tempfile\n",
    "LOCAL_DIR = os.getcwd()\n",
    "os.environ['CUDA_VISIBLE_DEVICES'] = '-1'\n"
   ]
  },
  {
   "cell_type": "code",
   "execution_count": 2,
   "id": "bfa28fd1",
   "metadata": {},
   "outputs": [],
   "source": [
    "# Reading ratings file\n",
    "ratings_df = pd.read_csv('ratings.csv', sep='\\t', encoding='latin-1', \n",
    "                      usecols=['user_id', 'movie_id', 'user_emb_id', 'movie_emb_id', 'rating'])\n",
    "max_userid = ratings_df['user_id'].drop_duplicates().max()\n",
    "max_movieid = ratings_df['movie_id'].drop_duplicates().max()\n",
    "\n",
    "# Reading ratings file\n",
    "users_df = pd.read_csv('users.csv', sep='\\t', encoding='latin-1', \n",
    "                    usecols=['user_id', 'gender', 'zipcode', 'age_desc', 'occ_desc'])\n",
    "\n",
    "# Reading ratings file\n",
    "movies_df = pd.read_csv('movies.csv', sep='\\t', encoding='latin-1', usecols=['movie_id', 'title', 'genres'])\n",
    "dataset = pd.merge(pd.merge(movies_df, ratings_df),users_df)"
   ]
  },
  {
   "cell_type": "code",
   "execution_count": 3,
   "id": "3dd40a55",
   "metadata": {},
   "outputs": [
    {
     "name": "stdout",
     "output_type": "stream",
     "text": [
      "Number of users: 6040, Number of Movies: 3706, Min rating: 1.0, Max rating: 5.0\n"
     ]
    }
   ],
   "source": [
    "user_ids = ratings_df[\"user_id\"].unique().tolist()\n",
    "user2user_encoded = {x: i for i, x in enumerate(user_ids)}\n",
    "userencoded2user = {i: x for i, x in enumerate(user_ids)}\n",
    "\n",
    "movie_ids = ratings_df[\"movie_id\"].unique().tolist()\n",
    "movie2movie_encoded = {x: i for i, x in enumerate(movie_ids)}\n",
    "movie_encoded2movie = {i: x for i, x in enumerate(movie_ids)}\n",
    "\n",
    "ratings_df[\"user\"] = ratings_df[\"user_id\"].map(user2user_encoded)\n",
    "ratings_df[\"movie\"] = ratings_df[\"movie_id\"].map(movie2movie_encoded)\n",
    "\n",
    "num_users = len(user2user_encoded)\n",
    "num_movies = len(movie_encoded2movie)\n",
    "ratings_df[\"rating\"] = ratings_df[\"rating\"].values.astype(np.float32)\n",
    "\n",
    "# min and max ratings will be used to normalize the ratings later\n",
    "min_rating = min(ratings_df[\"rating\"])\n",
    "max_rating = max(ratings_df[\"rating\"])\n",
    "print(\n",
    "    \"Number of users: {}, Number of Movies: {}, Min rating: {}, Max rating: {}\".format(\n",
    "        num_users, num_movies, min_rating, max_rating\n",
    "    )\n",
    ")\n",
    "ratings_df = ratings_df.sample(frac=1, random_state=42)"
   ]
  },
  {
   "cell_type": "code",
   "execution_count": 4,
   "id": "67938ce9",
   "metadata": {},
   "outputs": [],
   "source": [
    "x = ratings_df[[\"user\", \"movie\"]].values\n",
    "# Normalize the targets between 0 and 1. Makes it easy to train.\n",
    "y = ratings_df[\"rating\"].apply(lambda x: (x - min_rating) / (max_rating - min_rating)).values\n",
    "# Assuming training on 90% of the data and validating on 10%.\n",
    "train_indices = int(0.9 * ratings_df.shape[0])\n",
    "x_train, x_val, y_train, y_val = (\n",
    "    x[:train_indices],\n",
    "    x[train_indices:],\n",
    "    y[:train_indices],\n",
    "    y[train_indices:],\n",
    ")"
   ]
  },
  {
   "cell_type": "code",
   "execution_count": 5,
   "id": "c544840a",
   "metadata": {},
   "outputs": [],
   "source": [
    "EMBEDDING_SIZE = 32\n",
    "class RecommenderNet(keras.Model):\n",
    "    def __init__(self, num_users, num_movies, embedding_size, **kwargs):\n",
    "        super(RecommenderNet, self).__init__(**kwargs)\n",
    "        self.num_users = num_users\n",
    "        self.num_movies = num_movies\n",
    "        self.embedding_size = embedding_size\n",
    "        self.user_embedding = layers.Embedding(\n",
    "            num_users,\n",
    "            embedding_size,\n",
    "            embeddings_initializer=\"he_normal\",\n",
    "            embeddings_regularizer=keras.regularizers.l2(1e-6),\n",
    "            mask_zero=True\n",
    "        )\n",
    "        self.user_bias = layers.Embedding(num_users, 1)\n",
    "        self.movie_embedding = layers.Embedding(\n",
    "            num_movies,\n",
    "            embedding_size,\n",
    "            embeddings_initializer=\"he_normal\",\n",
    "            embeddings_regularizer=keras.regularizers.l2(1e-6),\n",
    "            mask_zero=True\n",
    "        )\n",
    "        self.movie_bias = layers.Embedding(num_movies, 1)\n",
    "    def call(self, inputs):\n",
    "        user_vector = self.user_embedding(inputs[:, 0])\n",
    "        user_bias = self.user_bias(inputs[:, 0])\n",
    "        movie_vector = self.movie_embedding(inputs[:, 1])\n",
    "        movie_bias = self.movie_bias(inputs[:, 1])\n",
    "        dot_user_movie = tf.tensordot(user_vector, movie_vector, 2)\n",
    "        # Add all the components (including bias)\n",
    "        x = dot_user_movie + user_bias + movie_bias\n",
    "        # The sigmoid activation forces the rating to between 0 and 1\n",
    "        return tf.nn.sigmoid(x)"
   ]
  },
  {
   "cell_type": "code",
   "execution_count": 6,
   "id": "81a96629",
   "metadata": {},
   "outputs": [
    {
     "name": "stdout",
     "output_type": "stream",
     "text": [
      "Epoch 1/5\n"
     ]
    },
    {
     "name": "stderr",
     "output_type": "stream",
     "text": [
      "C:\\App\\Anaconda3\\lib\\site-packages\\keras\\optimizers\\optimizer_v2\\adam.py:110: UserWarning: The `lr` argument is deprecated, use `learning_rate` instead.\n",
      "  super(Adam, self).__init__(name, **kwargs)\n"
     ]
    },
    {
     "name": "stdout",
     "output_type": "stream",
     "text": [
      "14066/14066 [==============================] - 24s 2ms/step - loss: 0.6182 - val_loss: 0.6099\n",
      "Epoch 2/5\n",
      "14066/14066 [==============================] - 24s 2ms/step - loss: 0.6139 - val_loss: 0.6171\n",
      "Epoch 3/5\n",
      "14066/14066 [==============================] - 24s 2ms/step - loss: 0.6230 - val_loss: 0.6280\n",
      "Epoch 4/5\n",
      "14066/14066 [==============================] - 27s 2ms/step - loss: 0.6315 - val_loss: 0.6332\n",
      "Epoch 5/5\n",
      "14066/14066 [==============================] - 23s 2ms/step - loss: 0.6372 - val_loss: 0.6375\n",
      "Model: \"recommender_net\"\n",
      "_________________________________________________________________\n",
      " Layer (type)                Output Shape              Param #   \n",
      "=================================================================\n",
      " embedding (Embedding)       multiple                  193280    \n",
      "                                                                 \n",
      " embedding_1 (Embedding)     multiple                  6040      \n",
      "                                                                 \n",
      " embedding_2 (Embedding)     multiple                  118592    \n",
      "                                                                 \n",
      " embedding_3 (Embedding)     multiple                  3706      \n",
      "                                                                 \n",
      "=================================================================\n",
      "Total params: 321,618\n",
      "Trainable params: 321,618\n",
      "Non-trainable params: 0\n",
      "_________________________________________________________________\n",
      "3126/3126 [==============================] - 4s 1ms/step - loss: 0.6171\n",
      "\\nTest Loss: 0.6170669198036194\n"
     ]
    }
   ],
   "source": [
    "model = RecommenderNet(num_users, num_movies, EMBEDDING_SIZE)\n",
    "model.compile(\n",
    "    loss=tf.keras.losses.BinaryCrossentropy(), optimizer=keras.optimizers.Adam(lr=0.001)\n",
    ")\n",
    "history = model.fit(\n",
    "    x=x_train,\n",
    "    y=y_train,\n",
    "    batch_size=64,\n",
    "    epochs=5,\n",
    "    verbose=1,\n",
    "    validation_data=(x_val, y_val),\n",
    ")\n",
    "model.summary()\n",
    "test_loss = model.evaluate(x_val, y_val)\n",
    "print('\\\\nTest Loss: {}'.format(test_loss))\n"
   ]
  },
  {
   "cell_type": "code",
   "execution_count": 7,
   "id": "0e5d94a5",
   "metadata": {},
   "outputs": [
    {
     "name": "stdout",
     "output_type": "stream",
     "text": [
      "Testing Model with 1 user\n",
      "116/116 [==============================] - 0s 953us/step\n"
     ]
    }
   ],
   "source": [
    "print(\"Testing Model with 1 user\")\n",
    "\n",
    "user_id = \"new_user\"\n",
    "movies_watched_by_user = ratings_df.sample(5)\n",
    "\n",
    "movies_not_watched = movies_df[\n",
    "    ~movies_df[\"movie_id\"].isin(movies_watched_by_user.movie_id.values)\n",
    "][\"movie_id\"]\n",
    "\n",
    "movies_not_watched = list(\n",
    "    set(movies_not_watched).intersection(set(movie2movie_encoded.keys()))\n",
    ")\n",
    "\n",
    "movies_not_watched = [[movie2movie_encoded.get(x)] for x in movies_not_watched]\n",
    "\n",
    "user_movie_array = np.hstack(\n",
    "    ([[0]] * len(movies_not_watched), movies_not_watched)\n",
    ")\n",
    "\n",
    "ratings = model.predict(user_movie_array).flatten()\n",
    "top_ratings_indices = ratings.argsort()[-10:][::-1]\n",
    "\n",
    "recommended_movie_ids = [\n",
    "    movie_encoded2movie.get(movies_not_watched[x][0]) for x in top_ratings_indices\n",
    "]\n",
    "\n"
   ]
  },
  {
   "cell_type": "code",
   "execution_count": 8,
   "id": "df518ab1",
   "metadata": {},
   "outputs": [
    {
     "name": "stdout",
     "output_type": "stream",
     "text": [
      "Showing recommendations for user: new_user\n",
      "====================================\n",
      "Movies with high ratings from user\n",
      "--------------------------------\n",
      "City of Lost Children, The (1995) : Adventure|Sci-Fi\n",
      "His Girl Friday (1940) : Comedy\n",
      "Gentleman's Agreement (1947) : Drama\n",
      "Lethal Weapon 2 (1989) : Action|Comedy|Crime|Drama\n",
      "Loser (2000) : Comedy|Romance\n"
     ]
    }
   ],
   "source": [
    "print(\"Showing recommendations for user: {}\".format(user_id))\n",
    "print(\"====\" * 9)\n",
    "print(\"Movies with high ratings from user\")\n",
    "print(\"----\" * 8)\n",
    "\n",
    "top_movies_user = (\n",
    "    movies_watched_by_user.sort_values(by=\"rating\", ascending=False)\n",
    "    .head(5)\n",
    "    .movie_id.values\n",
    ")\n",
    "\n",
    "movie_df_rows = movies_df[movies_df[\"movie_id\"].isin(top_movies_user)]\n",
    "\n",
    "for row in movie_df_rows.itertuples():\n",
    "    print(row.title, \":\", row.genres)\n",
    "\n"
   ]
  },
  {
   "cell_type": "code",
   "execution_count": 9,
   "id": "df6a4f45",
   "metadata": {},
   "outputs": [
    {
     "name": "stdout",
     "output_type": "stream",
     "text": [
      "--------------------------------\n",
      "Top 10 movie recommendations\n",
      "--------------------------------\n",
      "Silence of the Lambs, The (1991) : Drama|Thriller\n",
      "Wallace & Gromit: The Best of Aardman Animation (1996) : Animation\n",
      "Close Shave, A (1995) : Animation|Comedy|Thriller\n",
      "Dr. Strangelove or: How I Learned to Stop Worrying and Love the Bomb (1963) : Sci-Fi|War\n",
      "African Queen, The (1951) : Action|Adventure|Romance|War\n",
      "Paths of Glory (1957) : Drama|War\n",
      "Kolya (1996) : Comedy\n",
      "Waiting for Guffman (1996) : Comedy\n",
      "Sixth Sense, The (1999) : Thriller\n",
      "Requiem for a Dream (2000) : Drama\n"
     ]
    }
   ],
   "source": [
    "print(\"----\" * 8)\n",
    "print(\"Top 10 movie recommendations\")\n",
    "print(\"----\" * 8)\n",
    "recommended_movies = movies_df[movies_df[\"movie_id\"].isin(recommended_movie_ids)]\n",
    "for row in recommended_movies.itertuples():\n",
    "    print(row.title, \":\", row.genres)\n"
   ]
  },
  {
   "cell_type": "code",
   "execution_count": 10,
   "id": "7137604f",
   "metadata": {},
   "outputs": [
    {
     "name": "stdout",
     "output_type": "stream",
     "text": [
      "===========================\n",
      "Saving Model\n",
      "===========================\n",
      "export_path = C:\\Temp\\ai-model\\model\\1\\n\n",
      "INFO:tensorflow:Assets written to: C:\\Temp\\ai-model\\model\\1\\assets\n"
     ]
    }
   ],
   "source": [
    "print(\"===\"* 9)\n",
    "print(\"Saving Model\")\n",
    "print(\"===\"* 9)\n",
    "MODEL_DIR = tempfile.gettempdir()\n",
    "version = 1\n",
    "export_path = os.path.join('C:\\\\Temp', f\"ai-model\\\\model\\\\{version}\")\n",
    "print('export_path = {}\\\\n'.format(export_path))\n",
    "tf.keras.models.save_model(\n",
    "    model,\n",
    "    export_path,\n",
    "    overwrite=True,\n",
    "    include_optimizer=True,\n",
    "    save_format=None,\n",
    "    signatures=None,\n",
    "    options=None\n",
    ")"
   ]
  },
  {
   "cell_type": "markdown",
   "id": "34de2de8",
   "metadata": {},
   "source": [
    "#### TODO - Inspect the files Saved"
   ]
  },
  {
   "cell_type": "markdown",
   "id": "a38a105d",
   "metadata": {},
   "source": [
    "- How to build an application to make recommendations using the model?\n",
    "- How to serve Tensorflow models? \n",
    "- Is there an extensión of Tensorflow that allows to run our model using HTTP requests?\n",
    "- How to package the model?"
   ]
  },
  {
   "cell_type": "code",
   "execution_count": null,
   "id": "d63a40c0",
   "metadata": {},
   "outputs": [],
   "source": []
  }
 ],
 "metadata": {
  "kernelspec": {
   "display_name": "Python 3 (ipykernel)",
   "language": "python",
   "name": "python3"
  },
  "language_info": {
   "codemirror_mode": {
    "name": "ipython",
    "version": 3
   },
   "file_extension": ".py",
   "mimetype": "text/x-python",
   "name": "python",
   "nbconvert_exporter": "python",
   "pygments_lexer": "ipython3",
   "version": "3.9.13"
  }
 },
 "nbformat": 4,
 "nbformat_minor": 5
}
