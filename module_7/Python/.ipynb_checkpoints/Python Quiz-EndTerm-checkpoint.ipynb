{
 "cells": [
  {
   "cell_type": "markdown",
   "id": "e34fe782",
   "metadata": {},
   "source": [
    "## Python Quiz"
   ]
  },
  {
   "cell_type": "markdown",
   "id": "f133753b",
   "metadata": {},
   "source": [
    "### QSet1 - recursive functions - Find if an integer is present in array of integers"
   ]
  },
  {
   "cell_type": "code",
   "execution_count": 1,
   "id": "29bb11a2",
   "metadata": {},
   "outputs": [],
   "source": [
    "class Solution:\n",
    "        \n",
    "    # Returns index of x in arr if present, else -1\n",
    "    def binary_search(self, arr, low, high, x):\n",
    "    \n",
    "        # Check base case\n",
    "        if high >= low:\n",
    "    \n",
    "            mid = (high + low) // 2\n",
    "    \n",
    "            # If element is present at the middle itself            \n",
    "            if arr[mid] == x:\n",
    "                ##### Q1 Return the mid value\n",
    "               return mid\n",
    "    \n",
    "            # If element is smaller than mid, then it can only\n",
    "            # be present in left subarray\n",
    "            elif arr[mid] > x:\n",
    "                return self.binary_search(arr, low, mid - 1, x)\n",
    "    \n",
    "            # Else the element can only be present in right subarray\n",
    "            else:\n",
    "                ##### Q2 Return the recurisive function call with proper arguments\n",
    "                return self.binary_search(arr, mid + 1, high, x)\n",
    "                \n",
    "    \n",
    "        else:\n",
    "            # Element is not present in the array\n",
    "            return -1\n",
    "    "
   ]
  },
  {
   "cell_type": "code",
   "execution_count": 2,
   "id": "5843ca5d",
   "metadata": {},
   "outputs": [
    {
     "name": "stdout",
     "output_type": "stream",
     "text": [
      "Element is present at index 4\n"
     ]
    }
   ],
   "source": [
    "    \n",
    "# Test for QSet1 - binary_search\n",
    "arr = [-1,0,3,5,9,12]\n",
    "x = 9  #Find if 9 is present in above arr, if so at which location\n",
    "\n",
    "#Instantiate the class\n",
    "mySearch = Solution()\n",
    "\n",
    "# Function call on the class\n",
    "result = mySearch.binary_search(arr, 0, len(arr)-1, x)\n",
    "\n",
    "if result != -1:\n",
    "    print(\"Element is present at index\", str(result))\n",
    "else:\n",
    "    print(\"Element is not present in array\")"
   ]
  },
  {
   "cell_type": "markdown",
   "id": "8380fbb0",
   "metadata": {},
   "source": [
    "### QSet2 - regular expressions"
   ]
  },
  {
   "cell_type": "code",
   "execution_count": 3,
   "id": "772e5f91",
   "metadata": {},
   "outputs": [
    {
     "data": {
      "text/plain": [
       "['Simple', 'is', 'better', 'than', 'complex']"
      ]
     },
     "execution_count": 3,
     "metadata": {},
     "output_type": "execute_result"
    }
   ],
   "source": [
    "import re\n",
    "string=\"Simple is better than complex.\"\n",
    "\n",
    "##### Q3 Split the string above in a array of words using re package\n",
    "obj = re.findall(r'\\b\\w+\\b', string)\n",
    "\n",
    "obj"
   ]
  },
  {
   "cell_type": "code",
   "execution_count": 4,
   "id": "26872878",
   "metadata": {},
   "outputs": [
    {
     "name": "stdout",
     "output_type": "stream",
     "text": [
      "alice-b@google.com\n"
     ]
    }
   ],
   "source": [
    "string = 'You are signed up to receive a daily report of some notifications from your Canvas account alice-b@google.com. \\\n",
    "          Below is the report for May 7'\n",
    "\n",
    "##### Q4 extract and print the email from string above\n",
    "match = re.search(r'\\b[A-Za-z0-9._%+-]+@[A-Za-z0-9.-]+\\.[A-Z|a-z]{2,}\\b', string)\n",
    "\n",
    "if match:\n",
    "    print(match.group())  "
   ]
  },
  {
   "cell_type": "code",
   "execution_count": 5,
   "id": "8868efff",
   "metadata": {},
   "outputs": [
    {
     "name": "stdout",
     "output_type": "stream",
     "text": [
      "company1\n",
      "company3\n"
     ]
    }
   ],
   "source": [
    "import re\n",
    "string = '''Email_Address,Nickname,Group_Status,Join_Year\n",
    "        aName@company1.com,aa,Owner,2014\n",
    "        bName@company3.com,bb,Member,2015\n",
    "        cName@org1.org,cc,Member,2017\n",
    "        dName@org2.gov,dd,Member,2016\n",
    "        eName@school1.edu,ee,Member,2020'''\n",
    "\n",
    "##### Q5 Extract only the domain names from the email addresses ending in .com (do not extract .gov, .org, .edu)\n",
    "matches = re.findall(r'\\b[A-Za-z0-9._%+-]+@([A-Za-z0-9.-]+)\\.com\\b', string)\n",
    "\n",
    "for match in matches:\n",
    "    print(match)"
   ]
  },
  {
   "cell_type": "code",
   "execution_count": 6,
   "id": "9ec53606",
   "metadata": {},
   "outputs": [
    {
     "name": "stdout",
     "output_type": "stream",
     "text": [
      "['Betty', 'Botter', 'butter', 'but', 'butter', 'bitter', 'batter', 'batter', 'bitter', 'but', 'bit', 'better', 'butter', 'batter', 'better', 'bit', 'butter', 'better', 'bitter', 'butter', 'batter', 'batter', 'bitter', 'better', 'Betty', 'Botter', 'bit', 'better', 'butter']\n",
      "29\n"
     ]
    }
   ],
   "source": [
    "import re\n",
    "\n",
    "myString = f'''Betty Botter bought some butter,but the butter, it was bitter.\n",
    "        If she put it in her batter, it would make her batter bitter,\n",
    "        but a bit of better butter, that would make her batter better.\n",
    "        So, she bought a bit of butter, better than her bitter butter,\n",
    "        And she put it in her batter, and her batter was not bitter.\n",
    "        So, T'was better Betty Botter bought a bit of better butter.'''\n",
    "\n",
    "##### Q6 - Count in myString the number of words that starts with b or B and the 3rd letter is t or T\n",
    "\n",
    "pattern = r'\\b[b][^ ]{1}[t]\\w*\\b'\n",
    "matches = re.findall(pattern, myString, re.IGNORECASE) #TODO-6\n",
    "\n",
    "print(matches)\n",
    "print(len(matches))"
   ]
  },
  {
   "cell_type": "markdown",
   "id": "1bd7a605",
   "metadata": {},
   "source": [
    "### QSet3  - Unique List Items"
   ]
  },
  {
   "cell_type": "code",
   "execution_count": 7,
   "id": "dfdb963c",
   "metadata": {},
   "outputs": [],
   "source": [
    "##### Q7 - Write a function that takes one argument of type List (aList) \n",
    "# and returns a List back after removing all dupliments elements or valures\n",
    "def unique(aList):\n",
    "    unique_set = set()\n",
    "    unique_list = []\n",
    "    for item in aList:\n",
    "        if item not in unique_set:\n",
    "            unique_set.add(item)\n",
    "            unique_list.append(item)\n",
    "    return unique_list"
   ]
  },
  {
   "cell_type": "code",
   "execution_count": 8,
   "id": "dfe3bb67",
   "metadata": {},
   "outputs": [
    {
     "data": {
      "text/plain": [
       "['Bet', 'Bot', 'but', 'bit', 'bat', 'bet']"
      ]
     },
     "execution_count": 8,
     "metadata": {},
     "output_type": "execute_result"
    }
   ],
   "source": [
    "\n",
    "#Test for Q7\n",
    "matches = ['Bet', 'Bot', 'but', 'but', 'but', 'bit', 'bat', 'bat', 'bit', 'but', \n",
    "           'bit', 'bet', 'but', 'bat', 'bet', 'bit', 'but', 'bet', 'bit', 'but', \n",
    "           'bat', 'bat', 'bit', 'bet', 'Bet', 'Bot', 'bit', 'bet', 'but']\n",
    "matches=unique(matches)\n",
    "matches"
   ]
  },
  {
   "cell_type": "markdown",
   "id": "7fb9e4ec",
   "metadata": {},
   "source": [
    "### QSet4 -  comprehension"
   ]
  },
  {
   "cell_type": "code",
   "execution_count": 9,
   "id": "e5ff1d72",
   "metadata": {},
   "outputs": [
    {
     "name": "stdout",
     "output_type": "stream",
     "text": [
      "The original dictionary is : {'Sun': [5, 6, 7, 8], 'is': [10, 11, 7, 5], 'best': [6, 12, 10, 8], 'for': [1, 2, 5]}\n",
      "The unique values list is : [1, 2, 5, 6, 7, 8, 10, 11, 12]\n"
     ]
    }
   ],
   "source": [
    "# Extract Unique values dictionary values\n",
    "# Using set comprehension + values() + sorted()\n",
    " \n",
    "# initializing dictionary\n",
    "test_dict = {'Sun': [5, 6, 7, 8],\n",
    "             'is': [10, 11, 7, 5],\n",
    "             'best': [6, 12, 10, 8],\n",
    "             'for': [1, 2, 5]}\n",
    " \n",
    "# printing original dictionary\n",
    "print(\"The original dictionary is : \" + str(test_dict))\n",
    "\n",
    "##### Q8 Extract Unique values from all keys in the dictionary\n",
    "# Using set comprehension + values() + sorted()\n",
    "\n",
    "res = sorted({item for val in test_dict.values() for item in val})\n",
    "\n",
    " \n",
    "# printing result\n",
    "print(\"The unique values list is : \" + str(res))"
   ]
  },
  {
   "cell_type": "markdown",
   "id": "0adcecc0",
   "metadata": {},
   "source": [
    "### QSet5 - Datetime - convert string to date-time value"
   ]
  },
  {
   "cell_type": "code",
   "execution_count": 10,
   "id": "e8ef0088",
   "metadata": {},
   "outputs": [
    {
     "name": "stdout",
     "output_type": "stream",
     "text": [
      "2023-02-28 14:30:56\n"
     ]
    }
   ],
   "source": [
    "from datetime import datetime\n",
    "\n",
    "# Example with the standard date and time format\n",
    "date_str = 'Date 2023-02-28 Time 14:30:56'\n",
    "\n",
    "##### Q9 Write the synatx for date_format to convert above date_str variable to datetime object\n",
    "date_format = 'Date %Y-%m-%d Time %H:%M:%S'\n",
    "\n",
    "date_obj = datetime.strptime(date_str, date_format)\n",
    "print(date_obj)"
   ]
  },
  {
   "cell_type": "markdown",
   "id": "a8c2e36d",
   "metadata": {},
   "source": [
    "### QSet6 - Numpy"
   ]
  },
  {
   "cell_type": "code",
   "execution_count": 11,
   "id": "2b02835c",
   "metadata": {},
   "outputs": [
    {
     "data": {
      "text/plain": [
       "array([[1., 0., 0., 0., 0.],\n",
       "       [0., 1., 0., 0., 0.],\n",
       "       [0., 0., 1., 0., 0.],\n",
       "       [0., 0., 0., 1., 0.],\n",
       "       [0., 0., 0., 0., 1.]])"
      ]
     },
     "execution_count": 11,
     "metadata": {},
     "output_type": "execute_result"
    }
   ],
   "source": [
    "import numpy as np\n",
    "\n",
    "##### Q10 create a identity matrix of order = 5 \n",
    "identity_matrix = np.eye(5)\n",
    "\n",
    "identity_matrix\n"
   ]
  },
  {
   "cell_type": "code",
   "execution_count": 12,
   "id": "5ab5fed2",
   "metadata": {},
   "outputs": [
    {
     "data": {
      "text/plain": [
       "array([[0, 1, 2],\n",
       "       [1, 2, 3],\n",
       "       [5, 5, 7]])"
      ]
     },
     "execution_count": 12,
     "metadata": {},
     "output_type": "execute_result"
    }
   ],
   "source": [
    "train_set = np.array([[0, 1, 2], [1, 2, 3]])\n",
    "test_set = np.array([5, 5, 7])\n",
    "\n",
    "\n",
    "##### Q11- Join train and test dataset (both are two numpy arrays train_set and test_set) \n",
    "#        into a resulting array (resulting_set)\n",
    "\n",
    "resulting_set = np.vstack((train_set, test_set))\n",
    "\n",
    "resulting_set"
   ]
  },
  {
   "cell_type": "markdown",
   "id": "f14bd194",
   "metadata": {},
   "source": [
    "### QSet7 - pandas exercise"
   ]
  },
  {
   "cell_type": "code",
   "execution_count": 13,
   "id": "bdab0740",
   "metadata": {},
   "outputs": [],
   "source": [
    "import pandas as pd\n",
    "import statsmodels.api as sm\n",
    "import numpy as np"
   ]
  },
  {
   "cell_type": "code",
   "execution_count": 14,
   "id": "59aebe98",
   "metadata": {},
   "outputs": [
    {
     "name": "stdout",
     "output_type": "stream",
     "text": [
      "  col1  col2\n",
      "0    a     0\n",
      "1    b     1\n",
      "2    c     2\n",
      "3    e     3\n",
      "4    d     4\n"
     ]
    }
   ],
   "source": [
    "\n",
    "ser1 = pd.Series(list('abcedfghijklmnopqrstuvwxyz'))\n",
    "ser2 = pd.Series(np.arange(26))\n",
    "\n",
    "##### Q12 - Combine ser1 and ser2 to form a dataframe.\n",
    "\n",
    "df = pd.DataFrame({'col1': ser1, 'col2': ser2})\n",
    "print(df.head())\n"
   ]
  },
  {
   "cell_type": "code",
   "execution_count": 15,
   "id": "9c772d9c",
   "metadata": {},
   "outputs": [
    {
     "name": "stdout",
     "output_type": "stream",
     "text": [
      "   0  1  2  3  4\n",
      "0  3  7  8  5  3\n",
      "1  9  8  9  5  6\n",
      "2  8  3  1  2  1\n",
      "3  4  1  8  8  1\n",
      "4  3  6  5  9  2\n",
      "5  6  2  1  9  3\n",
      "6  4  5  1  8  8\n"
     ]
    }
   ],
   "source": [
    "\n",
    "ser = pd.Series(np.random.randint(1, 10, 35))\n",
    "\n",
    "# # ##### Q13 Reshape the series ser into a dataframe with 7 rows and 5 columns\n",
    "df = pd.DataFrame(ser.values.reshape(7, 5))\n",
    "print(df)"
   ]
  },
  {
   "cell_type": "code",
   "execution_count": 16,
   "id": "c29f73b9",
   "metadata": {},
   "outputs": [
    {
     "data": {
      "text/plain": [
       "0    Apple\n",
       "dtype: object"
      ]
     },
     "execution_count": 16,
     "metadata": {},
     "output_type": "execute_result"
    }
   ],
   "source": [
    "ser = pd.Series(['Apple', 'ChatGPT3', 'Plan', 'Python', 'Stars'])\n",
    "\n",
    "##### Q14 From ser, extract words that contain atleast 2 vowels.\n",
    "\n",
    "def two_vowels(word):\n",
    "    vowels = 'aeiouAEIOU'\n",
    "    vowels_count = 0\n",
    "    for letter in word:\n",
    "        if letter in vowels:\n",
    "            vowels_count+=1\n",
    "    return vowels_count >= 2\n",
    "\n",
    "# Use the function to filter words with at least 2 vowels\n",
    "ser[ser.apply(two_vowels)]\n"
   ]
  },
  {
   "cell_type": "code",
   "execution_count": 17,
   "id": "04c2eb02",
   "metadata": {},
   "outputs": [
    {
     "data": {
      "text/plain": [
       "['rameses@egypt.com', 'alexandar@greece.co', 'chengiz@mongolia.com']"
      ]
     },
     "execution_count": 17,
     "metadata": {},
     "output_type": "execute_result"
    }
   ],
   "source": [
    "emails = pd.Series(['buying books at amazom.com', 'rameses@egypt.com', 'alexandar@greece.co', 'chengiz@mongolia.com'])\n",
    "\n",
    "##### Q15 Extract the valid emails from the series emails. The regex pattern for valid emails is provided as reference.\n",
    "\n",
    "import re\n",
    "pattern ='[A-Za-z0-9._%+-]+@[A-Za-z0-9.-]+\\\\.[A-Za-z]{2,4}'\n",
    "email_list = emails[emails.str.contains(pattern, regex=True)].tolist()\n",
    "email_list"
   ]
  },
  {
   "cell_type": "code",
   "execution_count": 18,
   "id": "067a4fe7",
   "metadata": {},
   "outputs": [
    {
     "data": {
      "text/plain": [
       "18.16590212458495"
      ]
     },
     "execution_count": 18,
     "metadata": {},
     "output_type": "execute_result"
    }
   ],
   "source": [
    "p = pd.Series([1, 2, 3, 4, 5, 6, 7, 8, 9, 10])\n",
    "q = pd.Series([10, 9, 8, 7, 6, 5, 4, 3, 2, 1])\n",
    "\n",
    "##### Q16 Compute the euclidean distance between series (points) p and q\n",
    "euclidean_distance = np.linalg.norm(p - q)\n",
    "euclidean_distance"
   ]
  },
  {
   "cell_type": "code",
   "execution_count": 19,
   "id": "6d899bd4",
   "metadata": {},
   "outputs": [
    {
     "name": "stdout",
     "output_type": "stream",
     "text": [
      "2000-01-01     1.0\n",
      "2000-01-03    10.0\n",
      "2000-01-06     3.0\n",
      "2000-01-08     NaN\n",
      "dtype: float64\n",
      "2000-01-01     1.0\n",
      "2000-01-02     1.0\n",
      "2000-01-03    10.0\n",
      "2000-01-04    10.0\n",
      "2000-01-05    10.0\n",
      "2000-01-06     3.0\n",
      "2000-01-07     3.0\n",
      "2000-01-08     3.0\n",
      "Freq: D, dtype: float64\n"
     ]
    },
    {
     "name": "stderr",
     "output_type": "stream",
     "text": [
      "/var/folders/h7/yhgz44k17k5855ztc_9j04xh0000gp/T/ipykernel_35381/2013785305.py:6: FutureWarning: Series.fillna with 'method' is deprecated and will raise in a future version. Use obj.ffill() or obj.bfill() instead.\n",
      "  ser_filled = ser_filled.fillna(method='pad')\n"
     ]
    }
   ],
   "source": [
    "ser = pd.Series([1,10,3,np.nan], index=pd.to_datetime(['2000-01-01', '2000-01-03', '2000-01-06', '2000-01-08']))\n",
    "print(ser)\n",
    "\n",
    "##### Q 17 ser has missing dates and values. Make all missing dates appear and fill up with value from previous date. \n",
    "ser_filled = ser.resample('D').ffill()\n",
    "ser_filled = ser_filled.fillna(method='pad')\n",
    "\n",
    "print(ser_filled)"
   ]
  },
  {
   "cell_type": "code",
   "execution_count": 20,
   "id": "95bfc9d2",
   "metadata": {},
   "outputs": [
    {
     "name": "stdout",
     "output_type": "stream",
     "text": [
      "::\n",
      "\n",
      "    Number of observations - 944\n",
      "    Number of variables - 10\n",
      "\n",
      "    Variables name definitions::\n",
      "\n",
      "            popul - Census place population in 1000s\n",
      "            TVnews - Number of times per week that respondent watches TV news.\n",
      "            PID - Party identification of respondent.\n",
      "                0 - Strong Democrat\n",
      "                1 - Weak Democrat\n",
      "                2 - Independent-Democrat\n",
      "                3 - Independent-Indpendent\n",
      "                4 - Independent-Republican\n",
      "                5 - Weak Republican\n",
      "                6 - Strong Republican\n",
      "            age : Age of respondent.\n",
      "            educ - Education level of respondent\n",
      "                1 - 1-8 grades\n",
      "                2 - Some high school\n",
      "                3 - High school graduate\n",
      "                4 - Some college\n",
      "                5 - College degree\n",
      "                6 - Master's degree\n",
      "                7 - PhD\n",
      "            income - Income of household\n",
      "                1  - None or less than $2,999\n",
      "                2  - $3,000-$4,999\n",
      "                3  - $5,000-$6,999\n",
      "                4  - $7,000-$8,999\n",
      "                5  - $9,000-$9,999\n",
      "                6  - $10,000-$10,999\n",
      "                7  - $11,000-$11,999\n",
      "                8  - $12,000-$12,999\n",
      "                9  - $13,000-$13,999\n",
      "                10 - $14,000-$14.999\n",
      "                11 - $15,000-$16,999\n",
      "                12 - $17,000-$19,999\n",
      "                13 - $20,000-$21,999\n",
      "                14 - $22,000-$24,999\n",
      "                15 - $25,000-$29,999\n",
      "                16 - $30,000-$34,999\n",
      "                17 - $35,000-$39,999\n",
      "                18 - $40,000-$44,999\n",
      "                19 - $45,000-$49,999\n",
      "                20 - $50,000-$59,999\n",
      "                21 - $60,000-$74,999\n",
      "                22 - $75,000-89,999\n",
      "                23 - $90,000-$104,999\n",
      "                24 - $105,000 and over\n",
      "            vote - Expected vote\n",
      "                0 - Clinton\n",
      "                1 - Dole\n",
      "            The following 3 variables all take the values:\n",
      "                1 - Extremely liberal\n",
      "                2 - Liberal\n",
      "                3 - Slightly liberal\n",
      "                4 - Moderate\n",
      "                5 - Slightly conservative\n",
      "                6 - Conservative\n",
      "                7 - Extremely Conservative\n",
      "            selfLR - Respondent's self-reported political leanings from \"Left\"\n",
      "                to \"Right\".\n",
      "            ClinLR - Respondents impression of Bill Clinton's political\n",
      "                leanings from \"Left\" to \"Right\".\n",
      "            DoleLR  - Respondents impression of Bob Dole's political leanings\n",
      "                from \"Left\" to \"Right\".\n",
      "            logpopul - log(popul + .1)\n",
      "\n"
     ]
    }
   ],
   "source": [
    "import pandas as pd\n",
    "import statsmodels.api as sm\n",
    "import numpy as np\n",
    "\n",
    "anes96 = sm.datasets.anes96\n",
    "print(anes96.NOTE)\n",
    "\n",
    "dataset_anes96 = anes96.load_pandas()\n",
    "df = dataset_anes96.data\n"
   ]
  },
  {
   "cell_type": "code",
   "execution_count": 21,
   "id": "549e462e",
   "metadata": {},
   "outputs": [
    {
     "data": {
      "text/html": [
       "<div>\n",
       "<style scoped>\n",
       "    .dataframe tbody tr th:only-of-type {\n",
       "        vertical-align: middle;\n",
       "    }\n",
       "\n",
       "    .dataframe tbody tr th {\n",
       "        vertical-align: top;\n",
       "    }\n",
       "\n",
       "    .dataframe thead th {\n",
       "        text-align: right;\n",
       "    }\n",
       "</style>\n",
       "<table border=\"1\" class=\"dataframe\">\n",
       "  <thead>\n",
       "    <tr style=\"text-align: right;\">\n",
       "      <th></th>\n",
       "      <th>popul</th>\n",
       "      <th>TVnews</th>\n",
       "      <th>selfLR</th>\n",
       "      <th>ClinLR</th>\n",
       "      <th>DoleLR</th>\n",
       "      <th>PID</th>\n",
       "      <th>age</th>\n",
       "      <th>educ</th>\n",
       "      <th>income</th>\n",
       "      <th>vote</th>\n",
       "      <th>logpopul</th>\n",
       "    </tr>\n",
       "  </thead>\n",
       "  <tbody>\n",
       "    <tr>\n",
       "      <th>0</th>\n",
       "      <td>0.0</td>\n",
       "      <td>7.0</td>\n",
       "      <td>7.0</td>\n",
       "      <td>1.0</td>\n",
       "      <td>6.0</td>\n",
       "      <td>6.0</td>\n",
       "      <td>36.0</td>\n",
       "      <td>3.0</td>\n",
       "      <td>1.0</td>\n",
       "      <td>1.0</td>\n",
       "      <td>-2.302585</td>\n",
       "    </tr>\n",
       "    <tr>\n",
       "      <th>1</th>\n",
       "      <td>190.0</td>\n",
       "      <td>1.0</td>\n",
       "      <td>3.0</td>\n",
       "      <td>3.0</td>\n",
       "      <td>5.0</td>\n",
       "      <td>1.0</td>\n",
       "      <td>20.0</td>\n",
       "      <td>4.0</td>\n",
       "      <td>1.0</td>\n",
       "      <td>0.0</td>\n",
       "      <td>5.247550</td>\n",
       "    </tr>\n",
       "    <tr>\n",
       "      <th>2</th>\n",
       "      <td>31.0</td>\n",
       "      <td>7.0</td>\n",
       "      <td>2.0</td>\n",
       "      <td>2.0</td>\n",
       "      <td>6.0</td>\n",
       "      <td>1.0</td>\n",
       "      <td>24.0</td>\n",
       "      <td>6.0</td>\n",
       "      <td>1.0</td>\n",
       "      <td>0.0</td>\n",
       "      <td>3.437208</td>\n",
       "    </tr>\n",
       "    <tr>\n",
       "      <th>3</th>\n",
       "      <td>83.0</td>\n",
       "      <td>4.0</td>\n",
       "      <td>3.0</td>\n",
       "      <td>4.0</td>\n",
       "      <td>5.0</td>\n",
       "      <td>1.0</td>\n",
       "      <td>28.0</td>\n",
       "      <td>6.0</td>\n",
       "      <td>1.0</td>\n",
       "      <td>0.0</td>\n",
       "      <td>4.420045</td>\n",
       "    </tr>\n",
       "    <tr>\n",
       "      <th>4</th>\n",
       "      <td>640.0</td>\n",
       "      <td>7.0</td>\n",
       "      <td>5.0</td>\n",
       "      <td>6.0</td>\n",
       "      <td>4.0</td>\n",
       "      <td>0.0</td>\n",
       "      <td>68.0</td>\n",
       "      <td>6.0</td>\n",
       "      <td>1.0</td>\n",
       "      <td>0.0</td>\n",
       "      <td>6.461624</td>\n",
       "    </tr>\n",
       "  </tbody>\n",
       "</table>\n",
       "</div>"
      ],
      "text/plain": [
       "   popul  TVnews  selfLR  ClinLR  DoleLR  PID   age  educ  income  vote  \\\n",
       "0    0.0     7.0     7.0     1.0     6.0  6.0  36.0   3.0     1.0   1.0   \n",
       "1  190.0     1.0     3.0     3.0     5.0  1.0  20.0   4.0     1.0   0.0   \n",
       "2   31.0     7.0     2.0     2.0     6.0  1.0  24.0   6.0     1.0   0.0   \n",
       "3   83.0     4.0     3.0     4.0     5.0  1.0  28.0   6.0     1.0   0.0   \n",
       "4  640.0     7.0     5.0     6.0     4.0  0.0  68.0   6.0     1.0   0.0   \n",
       "\n",
       "   logpopul  \n",
       "0 -2.302585  \n",
       "1  5.247550  \n",
       "2  3.437208  \n",
       "3  4.420045  \n",
       "4  6.461624  "
      ]
     },
     "execution_count": 21,
     "metadata": {},
     "output_type": "execute_result"
    }
   ],
   "source": [
    "df.head()"
   ]
  },
  {
   "cell_type": "code",
   "execution_count": 22,
   "id": "e9943bfb",
   "metadata": {},
   "outputs": [
    {
     "name": "stdout",
     "output_type": "stream",
     "text": [
      "The DataFrame contains 944 observations and 11 columns.\n",
      "The youngest respondent is 19.0 years old.\n",
      "The oldest respondent is 91.0 years old.\n",
      "The average respondent watches TV news 3.7 days a week.\n",
      "Thare are no missing values in the df.\n"
     ]
    },
    {
     "data": {
      "text/html": [
       "<div>\n",
       "<style scoped>\n",
       "    .dataframe tbody tr th:only-of-type {\n",
       "        vertical-align: middle;\n",
       "    }\n",
       "\n",
       "    .dataframe tbody tr th {\n",
       "        vertical-align: top;\n",
       "    }\n",
       "\n",
       "    .dataframe thead th {\n",
       "        text-align: right;\n",
       "    }\n",
       "</style>\n",
       "<table border=\"1\" class=\"dataframe\">\n",
       "  <thead>\n",
       "    <tr style=\"text-align: right;\">\n",
       "      <th></th>\n",
       "      <th>popul</th>\n",
       "      <th>TVnews</th>\n",
       "      <th>selfLR</th>\n",
       "      <th>ClinLR</th>\n",
       "      <th>DoleLR</th>\n",
       "      <th>PID</th>\n",
       "      <th>age</th>\n",
       "      <th>education</th>\n",
       "      <th>income</th>\n",
       "      <th>vote</th>\n",
       "      <th>logpopul</th>\n",
       "    </tr>\n",
       "  </thead>\n",
       "  <tbody>\n",
       "    <tr>\n",
       "      <th>count</th>\n",
       "      <td>944.000000</td>\n",
       "      <td>944.000000</td>\n",
       "      <td>944.000000</td>\n",
       "      <td>944.000000</td>\n",
       "      <td>944.000000</td>\n",
       "      <td>944.000000</td>\n",
       "      <td>944.000000</td>\n",
       "      <td>944.000000</td>\n",
       "      <td>944.000000</td>\n",
       "      <td>944.000000</td>\n",
       "      <td>944.000000</td>\n",
       "    </tr>\n",
       "    <tr>\n",
       "      <th>mean</th>\n",
       "      <td>306.381356</td>\n",
       "      <td>3.727754</td>\n",
       "      <td>4.325212</td>\n",
       "      <td>2.939619</td>\n",
       "      <td>5.394068</td>\n",
       "      <td>2.842161</td>\n",
       "      <td>47.043432</td>\n",
       "      <td>4.565678</td>\n",
       "      <td>16.331568</td>\n",
       "      <td>0.416314</td>\n",
       "      <td>2.472307</td>\n",
       "    </tr>\n",
       "    <tr>\n",
       "      <th>std</th>\n",
       "      <td>1082.606745</td>\n",
       "      <td>2.677235</td>\n",
       "      <td>1.438436</td>\n",
       "      <td>1.383725</td>\n",
       "      <td>1.269349</td>\n",
       "      <td>2.273337</td>\n",
       "      <td>16.423130</td>\n",
       "      <td>1.599287</td>\n",
       "      <td>5.974781</td>\n",
       "      <td>0.493208</td>\n",
       "      <td>3.187043</td>\n",
       "    </tr>\n",
       "    <tr>\n",
       "      <th>min</th>\n",
       "      <td>0.000000</td>\n",
       "      <td>0.000000</td>\n",
       "      <td>1.000000</td>\n",
       "      <td>1.000000</td>\n",
       "      <td>1.000000</td>\n",
       "      <td>0.000000</td>\n",
       "      <td>19.000000</td>\n",
       "      <td>1.000000</td>\n",
       "      <td>1.000000</td>\n",
       "      <td>0.000000</td>\n",
       "      <td>-2.302585</td>\n",
       "    </tr>\n",
       "    <tr>\n",
       "      <th>25%</th>\n",
       "      <td>1.000000</td>\n",
       "      <td>1.000000</td>\n",
       "      <td>3.000000</td>\n",
       "      <td>2.000000</td>\n",
       "      <td>5.000000</td>\n",
       "      <td>1.000000</td>\n",
       "      <td>34.000000</td>\n",
       "      <td>3.000000</td>\n",
       "      <td>14.000000</td>\n",
       "      <td>0.000000</td>\n",
       "      <td>0.095310</td>\n",
       "    </tr>\n",
       "    <tr>\n",
       "      <th>50%</th>\n",
       "      <td>22.000000</td>\n",
       "      <td>3.000000</td>\n",
       "      <td>4.000000</td>\n",
       "      <td>3.000000</td>\n",
       "      <td>6.000000</td>\n",
       "      <td>2.000000</td>\n",
       "      <td>44.000000</td>\n",
       "      <td>4.000000</td>\n",
       "      <td>17.000000</td>\n",
       "      <td>0.000000</td>\n",
       "      <td>3.095578</td>\n",
       "    </tr>\n",
       "    <tr>\n",
       "      <th>75%</th>\n",
       "      <td>110.000000</td>\n",
       "      <td>7.000000</td>\n",
       "      <td>6.000000</td>\n",
       "      <td>4.000000</td>\n",
       "      <td>6.000000</td>\n",
       "      <td>5.000000</td>\n",
       "      <td>58.000000</td>\n",
       "      <td>6.000000</td>\n",
       "      <td>21.000000</td>\n",
       "      <td>1.000000</td>\n",
       "      <td>4.701389</td>\n",
       "    </tr>\n",
       "    <tr>\n",
       "      <th>max</th>\n",
       "      <td>7300.000000</td>\n",
       "      <td>7.000000</td>\n",
       "      <td>7.000000</td>\n",
       "      <td>7.000000</td>\n",
       "      <td>7.000000</td>\n",
       "      <td>6.000000</td>\n",
       "      <td>91.000000</td>\n",
       "      <td>7.000000</td>\n",
       "      <td>24.000000</td>\n",
       "      <td>1.000000</td>\n",
       "      <td>8.895643</td>\n",
       "    </tr>\n",
       "  </tbody>\n",
       "</table>\n",
       "</div>"
      ],
      "text/plain": [
       "             popul      TVnews      selfLR      ClinLR      DoleLR  \\\n",
       "count   944.000000  944.000000  944.000000  944.000000  944.000000   \n",
       "mean    306.381356    3.727754    4.325212    2.939619    5.394068   \n",
       "std    1082.606745    2.677235    1.438436    1.383725    1.269349   \n",
       "min       0.000000    0.000000    1.000000    1.000000    1.000000   \n",
       "25%       1.000000    1.000000    3.000000    2.000000    5.000000   \n",
       "50%      22.000000    3.000000    4.000000    3.000000    6.000000   \n",
       "75%     110.000000    7.000000    6.000000    4.000000    6.000000   \n",
       "max    7300.000000    7.000000    7.000000    7.000000    7.000000   \n",
       "\n",
       "              PID         age   education      income        vote    logpopul  \n",
       "count  944.000000  944.000000  944.000000  944.000000  944.000000  944.000000  \n",
       "mean     2.842161   47.043432    4.565678   16.331568    0.416314    2.472307  \n",
       "std      2.273337   16.423130    1.599287    5.974781    0.493208    3.187043  \n",
       "min      0.000000   19.000000    1.000000    1.000000    0.000000   -2.302585  \n",
       "25%      1.000000   34.000000    3.000000   14.000000    0.000000    0.095310  \n",
       "50%      2.000000   44.000000    4.000000   17.000000    0.000000    3.095578  \n",
       "75%      5.000000   58.000000    6.000000   21.000000    1.000000    4.701389  \n",
       "max      6.000000   91.000000    7.000000   24.000000    1.000000    8.895643  "
      ]
     },
     "execution_count": 22,
     "metadata": {},
     "output_type": "execute_result"
    }
   ],
   "source": [
    "\n",
    "##### Q18-Q19-Q20-Q21-Q22-Q23 -Write pyhton code to answer below 6 questions (print the answer)\n",
    "\n",
    "#*   How many observations are in the DataFrame? \n",
    "#*   How many variables are measured (how many columns)?\n",
    "#*   What is the age of the youngest person in the data? The oldest?\n",
    "#*   How many days a week does the average respondent watch TV news (round to the nearest tenth)?\n",
    "#*   Check for missing values. Are there any?\n",
    "#*   Rename the educ column education.\n",
    "\n",
    "#TODO - Q18-Q19-Q20-Q21-Q22-Q23 Solution \n",
    "# Q18\n",
    "num_observations = df.shape[0]\n",
    "# Q19\n",
    "num_columns = df.shape[1]\n",
    "print(f'The DataFrame contains {num_observations} observations and {num_columns} columns.')\n",
    "# Q20\n",
    "youngest = df['age'].min()\n",
    "print(f'The youngest respondent is {youngest} years old.')\n",
    "oldest = df['age'].max()\n",
    "print(f'The oldest respondent is {oldest} years old.')\n",
    "# Q21\n",
    "avg_tv_news = round(df['TVnews'].mean(), 1)\n",
    "print(f'The average respondent watches TV news {avg_tv_news} days a week.')\n",
    "# Q22\n",
    "missing_values = df.isnull().values.any()\n",
    "if missing_values:\n",
    "    print('Thare are missing values in the df.')\n",
    "else:\n",
    "    print('Thare are no missing values in the df.')\n",
    "\n",
    "# Q23\n",
    "df.rename(columns={'educ': 'education'}, inplace=True)\n",
    "df.describe()"
   ]
  },
  {
   "cell_type": "code",
   "execution_count": 23,
   "id": "6daeadf6",
   "metadata": {},
   "outputs": [
    {
     "name": "stdout",
     "output_type": "stream",
     "text": [
      "Solution Q1\n",
      "       0     1     2     3     4     5     6     7     8     9\n",
      "0 -0.81  1.66  0.14 -0.48  0.22  0.99  0.35  0.01  0.15  0.04\n",
      "1 -0.03 -1.13  0.14  0.12  0.18  0.13  1.16  1.08  0.57 -1.18\n",
      "2  1.45 -1.27  1.17  0.00 -0.72 -1.15 -1.43  0.11  0.78  0.94\n",
      "3 -1.18 -0.48 -1.25 -0.12  1.05 -0.99  0.83 -0.74 -1.40 -0.94\n",
      "4  0.71  0.79  1.29 -0.80 -1.42  1.03 -0.85 -1.06 -0.62 -0.51\n",
      "5 -0.92  0.50 -0.43 -0.76  1.57 -1.22  0.44  1.84  1.27 -0.16\n",
      "6 -0.40 -0.37  0.36  2.33 -0.90  0.15 -1.19 -0.55 -1.33  1.88\n",
      "7  1.16  0.29 -1.43 -0.28  0.01  1.06  0.68 -0.68  0.57 -0.08\n",
      "Solution Q2\n",
      "       0     1     2     3     4     5     6     7     8     9\n",
      "0  0.14  1.00  0.58  0.10  0.55  0.97  0.69  0.37  0.58  0.40\n",
      "1  0.44  0.05  0.58  0.29  0.53  0.59  1.00  0.74  0.74  0.00\n",
      "2  1.00  0.00  0.96  0.26  0.23  0.03  0.00  0.40  0.82  0.69\n",
      "3  0.00  0.27  0.07  0.22  0.83  0.10  0.87  0.11  0.00  0.08\n",
      "4  0.72  0.70  1.00  0.00  0.00  0.99  0.22  0.00  0.29  0.22\n",
      "5  0.10  0.60  0.37  0.01  1.00  0.00  0.72  1.00  1.00  0.33\n",
      "6  0.30  0.31  0.66  1.00  0.17  0.60  0.09  0.17  0.03  1.00\n",
      "7  0.89  0.53  0.00  0.17  0.48  1.00  0.81  0.13  0.74  0.36\n"
     ]
    }
   ],
   "source": [
    "df = pd.DataFrame(np.random.randint(1,100, 80).reshape(8, -1))\n",
    "\n",
    "##### Q24 Don’t use external packages like sklearn.\n",
    "\n",
    "#TODO 24\n",
    "# Normalize all columns of df by subtracting the column mean and divide by standard deviation.\n",
    "out1 = ((df - df.mean()) / df.std()).round(2)\n",
    "print('Solution Q1\\n', out1)\n",
    "\n",
    "#TODO 25\n",
    "# Range all columns of df such that the minimum value in each column is 0 and max is 1.\n",
    "out2 = df_scaled = ((df - df.min()) / (df.max() - df.min())).round(2)\n",
    "print('Solution Q2\\n', out2)  "
   ]
  },
  {
   "cell_type": "code",
   "execution_count": 24,
   "id": "a827222d",
   "metadata": {},
   "outputs": [
    {
     "data": {
      "text/html": [
       "<div>\n",
       "<style scoped>\n",
       "    .dataframe tbody tr th:only-of-type {\n",
       "        vertical-align: middle;\n",
       "    }\n",
       "\n",
       "    .dataframe tbody tr th {\n",
       "        vertical-align: top;\n",
       "    }\n",
       "\n",
       "    .dataframe thead th {\n",
       "        text-align: right;\n",
       "    }\n",
       "</style>\n",
       "<table border=\"1\" class=\"dataframe\">\n",
       "  <thead>\n",
       "    <tr style=\"text-align: right;\">\n",
       "      <th></th>\n",
       "      <th>fruit</th>\n",
       "      <th>weight</th>\n",
       "      <th>price</th>\n",
       "      <th>fruta</th>\n",
       "      <th>kilo</th>\n",
       "      <th>precio</th>\n",
       "    </tr>\n",
       "  </thead>\n",
       "  <tbody>\n",
       "    <tr>\n",
       "      <th>0</th>\n",
       "      <td>apple</td>\n",
       "      <td>high</td>\n",
       "      <td>4</td>\n",
       "      <td>apple</td>\n",
       "      <td>high</td>\n",
       "      <td>3</td>\n",
       "    </tr>\n",
       "    <tr>\n",
       "      <th>1</th>\n",
       "      <td>apple</td>\n",
       "      <td>high</td>\n",
       "      <td>12</td>\n",
       "      <td>apple</td>\n",
       "      <td>high</td>\n",
       "      <td>3</td>\n",
       "    </tr>\n",
       "    <tr>\n",
       "      <th>2</th>\n",
       "      <td>apple</td>\n",
       "      <td>high</td>\n",
       "      <td>14</td>\n",
       "      <td>apple</td>\n",
       "      <td>high</td>\n",
       "      <td>3</td>\n",
       "    </tr>\n",
       "    <tr>\n",
       "      <th>3</th>\n",
       "      <td>orange</td>\n",
       "      <td>low</td>\n",
       "      <td>10</td>\n",
       "      <td>orange</td>\n",
       "      <td>low</td>\n",
       "      <td>5</td>\n",
       "    </tr>\n",
       "    <tr>\n",
       "      <th>4</th>\n",
       "      <td>orange</td>\n",
       "      <td>low</td>\n",
       "      <td>8</td>\n",
       "      <td>orange</td>\n",
       "      <td>low</td>\n",
       "      <td>5</td>\n",
       "    </tr>\n",
       "    <tr>\n",
       "      <th>5</th>\n",
       "      <td>orange</td>\n",
       "      <td>low</td>\n",
       "      <td>14</td>\n",
       "      <td>orange</td>\n",
       "      <td>low</td>\n",
       "      <td>5</td>\n",
       "    </tr>\n",
       "  </tbody>\n",
       "</table>\n",
       "</div>"
      ],
      "text/plain": [
       "    fruit weight  price   fruta  kilo  precio\n",
       "0   apple   high      4   apple  high       3\n",
       "1   apple   high     12   apple  high       3\n",
       "2   apple   high     14   apple  high       3\n",
       "3  orange    low     10  orange   low       5\n",
       "4  orange    low      8  orange   low       5\n",
       "5  orange    low     14  orange   low       5"
      ]
     },
     "execution_count": 24,
     "metadata": {},
     "output_type": "execute_result"
    }
   ],
   "source": [
    "df1 = pd.DataFrame({'fruit': ['apple', 'banana', 'orange'] * 3,\n",
    "                    'weight': ['high', 'medium', 'low'] * 3,\n",
    "                    'price': np.random.randint(0, 15, 9)})\n",
    "\n",
    "df2 = pd.DataFrame({'fruta': ['apple', 'orange', 'pine'] * 2,\n",
    "                    'kilo': ['high', 'low'] * 3,\n",
    "                    'precio': np.random.randint(0, 15, 6)})\n",
    "\n",
    "##### Q26 Join dataframes df1 and df2 by ‘fruit-’ and ‘weight-kilo’.\n",
    "df3 = pd.merge(df1, df2, left_on=['fruit', 'weight'], right_on=['fruta', 'kilo'])\n",
    "df3\n"
   ]
  },
  {
   "cell_type": "code",
   "execution_count": 25,
   "id": "584f4b2d",
   "metadata": {},
   "outputs": [
    {
     "name": "stdout",
     "output_type": "stream",
     "text": [
      "    fruit  weight  price\n",
      "2  banana     low    2.0\n",
      "3   apple    high    3.0\n",
      "4  orange  medium    4.0\n",
      "5  banana     low    5.0\n",
      "6   apple    high    6.0\n",
      "7  orange  medium    7.0\n",
      "8  banana     low    8.0\n"
     ]
    }
   ],
   "source": [
    "# Input\n",
    "df1 = pd.DataFrame({'fruit': ['apple', 'orange', 'banana'] * 3,\n",
    "                    'weight': ['high', 'medium', 'low'] * 3,\n",
    "                    'price': np.arange(9)})\n",
    "\n",
    "df2 = pd.DataFrame({'fruit': ['apple', 'orange', 'pine'] * 2,\n",
    "                    'weight': ['high', 'medium'] * 3,\n",
    "                    'price': np.arange(6)})\n",
    "\n",
    "##### Q27 From df1, remove the rows that are present in df2. All three columns are the same.\n",
    "#TODO 27\n",
    "common_rows = pd.merge(df1, df2, on=['fruit', 'weight', 'price'], how='inner')\n",
    "df1 = df1[~df1.isin(common_rows)].dropna()\n",
    "print(df1)"
   ]
  },
  {
   "cell_type": "code",
   "execution_count": 26,
   "id": "45b0ad30",
   "metadata": {},
   "outputs": [
    {
     "name": "stdout",
     "output_type": "stream",
     "text": [
      "    a   b   c   d\n",
      "0  72  42  25  73\n",
      "1  39  65  14  59\n",
      "2  82  66  42  42\n",
      "3  63  11  39  84\n",
      "4  34  83  50  65\n",
      "    a   b   c   d  lag1  lead1\n",
      "0  72  42  25  73   NaN   65.0\n",
      "1  39  65  14  59  72.0   66.0\n",
      "2  82  66  42  42  39.0   11.0\n",
      "3  63  11  39  84  82.0   83.0\n",
      "4  34  83  50  65  63.0    NaN\n"
     ]
    }
   ],
   "source": [
    "# Input\n",
    "df = pd.DataFrame(np.random.randint(1, 100, 20).reshape(-1, 4), columns = list('abcd'))\n",
    "print(df)\n",
    "##### Q28 Create two new columns in df, \n",
    "# one of which is a lag1 (shift column a down by 1 row) of column ‘a’ and \n",
    "# the other is a lead1 (shift column b up by 1 row).\n",
    "\n",
    "#TODO 28\n",
    "df['lag1'] = df['a'].shift(1)\n",
    "df['lead1'] = df['b'].shift(-1)\n",
    "print(df)"
   ]
  },
  {
   "cell_type": "markdown",
   "id": "2d0ccfc2",
   "metadata": {},
   "source": [
    "### QSet 8  ML Exercise"
   ]
  },
  {
   "cell_type": "code",
   "execution_count": 27,
   "id": "666f21f2",
   "metadata": {},
   "outputs": [
    {
     "name": "stdout",
     "output_type": "stream",
     "text": [
      "The number of features in iris data: 4\n",
      "The size of iris dataset: 150\n",
      "\n",
      "\n",
      " Peform PCA \n",
      "[[2.93808505e+00 5.24561751e-16]\n",
      " [5.24561751e-16 9.20164904e-01]]\n",
      "[2.93808505 0.9201649 ]\n"
     ]
    }
   ],
   "source": [
    "import numpy as np\n",
    "import matplotlib.pyplot as plt\n",
    "from sklearn import datasets\n",
    "from sklearn.decomposition import PCA\n",
    "import pandas as pd\n",
    "from sklearn.preprocessing import StandardScaler\n",
    "\n",
    "plt.style.use('ggplot')\n",
    "\n",
    "# Load the data\n",
    "iris = datasets.load_iris()\n",
    "X = iris.data\n",
    "y = iris.target\n",
    "\n",
    "##### Q29 - print the number of features in X and the size of the dataset\n",
    "#TODO 29\n",
    "num_features = X.shape[1]\n",
    "print(f'The number of features in iris data: {num_features}')\n",
    "\n",
    "# Print the size of the dataset\n",
    "dataset_size = X.shape[0]\n",
    "print(f'The size of iris dataset: {dataset_size}')\n",
    "\n",
    "\n",
    "print(\"\\n\\n Peform PCA \")\n",
    "\n",
    "# Z-score the features\n",
    "scaler = StandardScaler()\n",
    "scaler.fit(X)\n",
    "X = scaler.transform(X)\n",
    "\n",
    "# The PCA model\n",
    "# estimate only 2 PCs\n",
    "pca = PCA(n_components=2) \n",
    "X_new = pca.fit_transform(X) # project the original data into the PCA space\n",
    "\n",
    "print(np.cov(X_new.T))\n",
    "\n",
    "print(pca.explained_variance_)\n"
   ]
  },
  {
   "cell_type": "markdown",
   "id": "7e782371",
   "metadata": {},
   "source": [
    "### QSet 9 plotting ... continued from above cell"
   ]
  },
  {
   "cell_type": "code",
   "execution_count": 28,
   "id": "d5aa3bc5",
   "metadata": {},
   "outputs": [
    {
     "data": {
      "image/png": "[encoded data removed]",
      "text/plain": [
       "<Figure size 640x480 with 2 Axes>"
      ]
     },
     "metadata": {},
     "output_type": "display_data"
    }
   ],
   "source": [
    "\n",
    "##### Q30 create 2 subplots along X-Axis\n",
    "fig, axes = plt.subplots(1, 2)\n",
    "\n",
    "##### Q30 Scatter Plot the first 2 original features in the first subplot\n",
    "#TODO Q30 \n",
    "axes[0].scatter(X[:, 0], X[:, 1], c=y, cmap='viridis')\n",
    "axes[0].set_xlabel('x1')\n",
    "axes[0].set_ylabel('x2')\n",
    "axes[0].set_title('Before PCA')\n",
    "\n",
    "##### Q30 Scatter Plot the 2 principal components in teh second subplot\n",
    "#TODO Q30 \n",
    "\n",
    "# Scatter plot the 2 principal components in the second subplot\n",
    "axes[1].scatter(X_new[:, 0], X_new[:, 1], c=y, cmap='viridis')\n",
    "axes[1].set_xlabel('PC1')\n",
    "axes[1].set_ylabel('PC2')\n",
    "axes[1].set_title('After PCA')\n",
    "\n",
    "plt.show()"
   ]
  },
  {
   "cell_type": "code",
   "execution_count": null,
   "id": "6155d782",
   "metadata": {},
   "outputs": [],
   "source": []
  }
 ],
 "metadata": {
  "kernelspec": {
   "display_name": "Python 3 (ipykernel)",
   "language": "python",
   "name": "python3"
  },
  "language_info": {
   "codemirror_mode": {
    "name": "ipython",
    "version": 3
   },
   "file_extension": ".py",
   "mimetype": "text/x-python",
   "name": "python",
   "nbconvert_exporter": "python",
   "pygments_lexer": "ipython3",
   "version": "3.11.6"
  }
 },
 "nbformat": 4,
 "nbformat_minor": 5
}
