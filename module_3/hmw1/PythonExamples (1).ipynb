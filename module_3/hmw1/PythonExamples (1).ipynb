{
 "cells": [
  {
   "cell_type": "markdown",
   "id": "57453ce5-f42c-4005-a61f-14f2619f490d",
   "metadata": {
    "jp-MarkdownHeadingCollapsed": true,
    "tags": []
   },
   "source": [
    "#### Functions"
   ]
  },
  {
   "cell_type": "code",
   "execution_count": null,
   "id": "4d265c61-4393-4a0c-b3c3-cffe03462a65",
   "metadata": {},
   "outputs": [],
   "source": []
  },
  {
   "cell_type": "code",
   "execution_count": null,
   "id": "8f262e63-e7b6-4918-9c47-8afd03675826",
   "metadata": {},
   "outputs": [],
   "source": [
    "#Function\n",
    "def square(x):\n",
    "    y = x**3\n",
    "    return x**2\n",
    "\n",
    "def average(x,y):\n",
    "    return (x+y)/2\n",
    "\n",
    "#Function - as parameter\n",
    "def useFunction(f, a,b):\n",
    "    return f(a,b)\n",
    "\n",
    "#useFunction(square, 3)\n",
    "useFunction(average, 4,5)"
   ]
  },
  {
   "cell_type": "code",
   "execution_count": null,
   "id": "f2e199fe-c581-41e6-befa-7c5558085a95",
   "metadata": {},
   "outputs": [],
   "source": [
    "lst = range(10)\n",
    "print(lst, lst[0], lst[9])"
   ]
  },
  {
   "cell_type": "code",
   "execution_count": null,
   "id": "13255224-07d0-421f-8f2d-138a0716cdf4",
   "metadata": {},
   "outputs": [],
   "source": [
    "#higher order Functions \n",
    "result = map(square, lst)\n",
    "for i in result:\n",
    "    print(i)"
   ]
  },
  {
   "cell_type": "code",
   "execution_count": null,
   "id": "e328b0cc-c0b9-449b-9b1a-790c068ac2dc",
   "metadata": {},
   "outputs": [],
   "source": [
    "type(result)"
   ]
  },
  {
   "cell_type": "code",
   "execution_count": null,
   "id": "3f4f8ad3-3754-480a-a6b1-391fe043644a",
   "metadata": {},
   "outputs": [],
   "source": [
    "import functools\n",
    "result = functools.reduce(average, lst)\n",
    "print(result)"
   ]
  },
  {
   "cell_type": "code",
   "execution_count": null,
   "id": "f58ad4c7-44de-4d7d-bbde-e93edf8b6347",
   "metadata": {},
   "outputs": [],
   "source": [
    "import numpy as np\n",
    "result = np.mean(lst)\n",
    "print(result)"
   ]
  },
  {
   "cell_type": "markdown",
   "id": "1e21177c-6667-4e83-ab46-112e09e27cba",
   "metadata": {
    "tags": []
   },
   "source": [
    "#### Recursion"
   ]
  },
  {
   "cell_type": "code",
   "execution_count": null,
   "id": "a664b8c6-9bfb-40b5-bfa1-e3d8f3321466",
   "metadata": {},
   "outputs": [],
   "source": [
    "def factorial(n):\n",
    "    if n == 1:\n",
    "        return 1\n",
    "    else:\n",
    "        return n*factorial(n-1)\n",
    "\n",
    "print(factorial(9))\n",
    "print(factorial(5))"
   ]
  },
  {
   "cell_type": "markdown",
   "id": "f88b3975-fedf-4d1d-b54e-ef06b4f88e0f",
   "metadata": {
    "jp-MarkdownHeadingCollapsed": true,
    "tags": []
   },
   "source": [
    "#### Classes"
   ]
  },
  {
   "cell_type": "code",
   "execution_count": 1,
   "id": "f3e3ec7b-4561-404f-bbee-bca82378f9e1",
   "metadata": {},
   "outputs": [],
   "source": [
    "class Account:\n",
    "    accountID = 0\n",
    "    name = 'noName'\n",
    "    balance = 0\n",
    "    \n",
    "    def __init__(self, accountid=10, name=''):\n",
    "        self.accountID = accountid\n",
    "        self.name = name\n",
    "        \n",
    "    def deposit(self, amount=0):\n",
    "        if amount < 0:\n",
    "            raise ValueError(\"negative amount: $\" + str(amount))\n",
    "        self.balance += amount\n",
    "    \n",
    "    def detail(self):\n",
    "        return self.accountID, self.name, self.balance"
   ]
  },
  {
   "cell_type": "code",
   "execution_count": 3,
   "id": "75d26c1b-663c-4018-b2e2-80725f74ca72",
   "metadata": {},
   "outputs": [],
   "source": [
    "account = Account(23, \"Kayne's Checking\")"
   ]
  },
  {
   "cell_type": "code",
   "execution_count": 9,
   "id": "133dca4d-1bce-4672-9e10-eafcdb35250d",
   "metadata": {},
   "outputs": [
    {
     "data": {
      "text/plain": [
       "300"
      ]
     },
     "execution_count": 9,
     "metadata": {},
     "output_type": "execute_result"
    }
   ],
   "source": [
    "account.balance"
   ]
  },
  {
   "cell_type": "code",
   "execution_count": 6,
   "id": "4c6c756e-721a-4cca-8b86-52971a85a6b5",
   "metadata": {},
   "outputs": [],
   "source": [
    "x = account.deposit(100)"
   ]
  },
  {
   "cell_type": "code",
   "execution_count": null,
   "id": "ff221212-d284-4971-a4b7-159b6cf22124",
   "metadata": {},
   "outputs": [],
   "source": [
    "type(x)"
   ]
  },
  {
   "cell_type": "code",
   "execution_count": 8,
   "id": "3ce7b20d-7bb5-401f-b6fb-902c64b2525b",
   "metadata": {},
   "outputs": [
    {
     "name": "stdout",
     "output_type": "stream",
     "text": [
      "(23, \"Kayne's Checking\", 300)\n",
      "negative amount: $-200\n"
     ]
    }
   ],
   "source": [
    "account.deposit(100)\n",
    "print(account.detail())\n",
    "\n",
    "try:\n",
    "    account.deposit(-200)\n",
    "except Exception as ex:\n",
    "    print(ex)"
   ]
  },
  {
   "cell_type": "code",
   "execution_count": 19,
   "id": "8e5ce6f7-25dc-485e-8e29-c2e78c34e8e3",
   "metadata": {},
   "outputs": [],
   "source": [
    "class BankAccount(Account):\n",
    "    type = 'Checking'\n",
    "    \n",
    "    def __init__(self, accountid=10, name='', accttype='Checking'):\n",
    "        Account.__init__(self, accountid, name)\n",
    "        self.type = accttype\n",
    "    \n",
    "    def deposit(self, amount=0):\n",
    "        if amount < 0:\n",
    "            raise ValueError(\"negative amount: $\" + str(amount))\n",
    "        self.balance += amount-5\n",
    "        \n",
    "    def withdraw(self, amount=0):\n",
    "        if self.balance < 1000:\n",
    "            raise ValueError(\"Minimun Balance $100 to be maintained, current Balance : $\" + str(self.balance))\n",
    "        self.balance -= amount\n",
    "        return self.balance"
   ]
  },
  {
   "cell_type": "code",
   "execution_count": 20,
   "id": "bb618239-21e0-4f8a-9494-7b1b59a92459",
   "metadata": {},
   "outputs": [],
   "source": [
    "myAccount = BankAccount(23, \"Kayne's Checking\")"
   ]
  },
  {
   "cell_type": "code",
   "execution_count": 21,
   "id": "b70b8016-7f2c-42da-b6fe-8e82385faf3c",
   "metadata": {},
   "outputs": [
    {
     "name": "stdout",
     "output_type": "stream",
     "text": [
      "(23, \"Kayne's Checking\", 95)\n",
      "Minimun Balance $100 to be maintained, current Balance : $95\n"
     ]
    }
   ],
   "source": [
    "myAccount.deposit(100)\n",
    "print(myAccount.detail())\n",
    "try:\n",
    "    myAccount.withdraw(100)\n",
    "except Exception as ex:\n",
    "    print(ex)\n",
    "    "
   ]
  },
  {
   "cell_type": "code",
   "execution_count": 18,
   "id": "51d1c612-8e56-4e50-b0c3-8c56453a3f5b",
   "metadata": {},
   "outputs": [
    {
     "name": "stdout",
     "output_type": "stream",
     "text": [
      "10000\n"
     ]
    }
   ],
   "source": [
    "myAccount.deposit(10000)\n",
    "try:\n",
    "    myBalance = myAccount.withdraw(100)\n",
    "    print(myBalance)\n",
    "except Exception as ex:\n",
    "    print(ex)"
   ]
  },
  {
   "cell_type": "markdown",
   "id": "9e4aab91-551a-4321-bf46-2e3c7858314b",
   "metadata": {
    "tags": []
   },
   "source": [
    "#### Collections"
   ]
  },
  {
   "cell_type": "code",
   "execution_count": null,
   "id": "69f4c55f-08e7-421d-b617-ca743991b0be",
   "metadata": {},
   "outputs": [],
   "source": []
  },
  {
   "cell_type": "code",
   "execution_count": 23,
   "id": "3e152905-a250-4136-9fbe-a60092e0533e",
   "metadata": {},
   "outputs": [],
   "source": [
    "# Tuples\n",
    "# ordered, unchangeable, indexed, cannot add or remove items, allow duplicate values\n",
    "\n",
    "x = (\"apple\", \"banana\",\"banana\", \"cherry\")"
   ]
  },
  {
   "cell_type": "code",
   "execution_count": 26,
   "id": "6bece525-4c28-4428-b6a6-fa41d6c99bf8",
   "metadata": {},
   "outputs": [
    {
     "ename": "TypeError",
     "evalue": "'tuple' object does not support item assignment",
     "output_type": "error",
     "traceback": [
      "\u001b[0;31m---------------------------------------------------------------------------\u001b[0m",
      "\u001b[0;31mTypeError\u001b[0m                                 Traceback (most recent call last)",
      "Input \u001b[0;32mIn [26]\u001b[0m, in \u001b[0;36m<cell line: 1>\u001b[0;34m()\u001b[0m\n\u001b[0;32m----> 1\u001b[0m x[\u001b[38;5;241m2\u001b[39m]\u001b[38;5;241m=\u001b[39m\u001b[38;5;124m'\u001b[39m\u001b[38;5;124mkiwi\u001b[39m\u001b[38;5;124m'\u001b[39m\n",
      "\u001b[0;31mTypeError\u001b[0m: 'tuple' object does not support item assignment"
     ]
    }
   ],
   "source": [
    "x[2]='kiwi'"
   ]
  },
  {
   "cell_type": "code",
   "execution_count": 27,
   "id": "3aac8306-3533-4953-98d6-c1bc394a14b7",
   "metadata": {},
   "outputs": [
    {
     "name": "stdout",
     "output_type": "stream",
     "text": [
      "kiwi\n"
     ]
    }
   ],
   "source": [
    "y = list(x)\n",
    "y[1] = \"kiwi\"\n",
    "x = tuple(y)\n",
    "print(x[1])"
   ]
  },
  {
   "cell_type": "code",
   "execution_count": 28,
   "id": "f7e106a8-d5a5-4874-a593-1fb098d9b0ba",
   "metadata": {},
   "outputs": [
    {
     "name": "stdout",
     "output_type": "stream",
     "text": [
      "['apple', 'banana', 'banana', 'mango']\n"
     ]
    }
   ],
   "source": [
    "# Lists\n",
    "# ordered, changeable, indexed, can add or remove items, allow duplicate values\n",
    "\n",
    "fruits = [\"apple\", \"banana\", \"banana\", \"cherry\", \"kiwi\", \"mango\"]\n",
    "newlist = [x for x in fruits if \"a\" in x]\n",
    "print(newlist)"
   ]
  },
  {
   "cell_type": "code",
   "execution_count": 31,
   "id": "2e75dabc-0072-41f5-82ea-6d929d74c3e3",
   "metadata": {},
   "outputs": [
    {
     "data": {
      "text/plain": [
       "['apple',\n",
       " 'banana',\n",
       " 'guavava',\n",
       " 'cherry',\n",
       " 'kiwi',\n",
       " 'mango',\n",
       " 'kiwi',\n",
       " 'kiwi',\n",
       " 'kiwi']"
      ]
     },
     "execution_count": 31,
     "metadata": {},
     "output_type": "execute_result"
    }
   ],
   "source": [
    "fruits.append('kiwi')\n",
    "fruits\n",
    "fruits[2]='guavava'\n",
    "fruits"
   ]
  },
  {
   "cell_type": "code",
   "execution_count": 32,
   "id": "589d384a-b63a-4c32-b538-b45da9b6a351",
   "metadata": {},
   "outputs": [
    {
     "name": "stdout",
     "output_type": "stream",
     "text": [
      "{'banana', 'apple', 'cherry'}\n"
     ]
    }
   ],
   "source": [
    "# Sets\n",
    "# unordered, unchangeable,unindexed, can add or remove items, do not allow duplicate values\n",
    "\n",
    "thisset = {\"apple\", \"banana\",  \"cherry\", \"banana\"}\n",
    "print(thisset)"
   ]
  },
  {
   "cell_type": "code",
   "execution_count": 33,
   "id": "aa6f937c-a66c-43fb-9c34-a0bf7c1fb5fd",
   "metadata": {},
   "outputs": [
    {
     "name": "stdout",
     "output_type": "stream",
     "text": [
      "1964\n",
      "2020\n"
     ]
    }
   ],
   "source": [
    "#Dictionaries\n",
    "# ordered, changeable, key-values, can add or remove items, and do not allow duplicates keys\n",
    "\n",
    "thisdict = {\n",
    "  \"brand\": \"Ford\",\n",
    "  \"model\": \"Mustang\",\n",
    "  \"year\": 1964\n",
    "}\n",
    "print(thisdict['year'])\n",
    "thisdict.update({\"year\": 2020})\n",
    "print(thisdict['year'])"
   ]
  },
  {
   "cell_type": "code",
   "execution_count": 34,
   "id": "de01e247-f99b-4781-ab52-162e76db6d72",
   "metadata": {},
   "outputs": [
    {
     "name": "stdout",
     "output_type": "stream",
     "text": [
      "('apple', 'kiwi', 'banana', 'cherry')\n"
     ]
    }
   ],
   "source": [
    "\n",
    "\n",
    "print(x)"
   ]
  },
  {
   "cell_type": "code",
   "execution_count": 35,
   "id": "db95f937-03a9-495f-b89f-40d57194b408",
   "metadata": {},
   "outputs": [],
   "source": [
    "import numpy as np\n"
   ]
  },
  {
   "cell_type": "code",
   "execution_count": 42,
   "id": "36d4456f-4af5-497e-a0f1-8eca3ae9c867",
   "metadata": {},
   "outputs": [
    {
     "data": {
      "text/plain": [
       "78"
      ]
     },
     "execution_count": 42,
     "metadata": {},
     "output_type": "execute_result"
    }
   ],
   "source": [
    "arr = np.array([1, 2, 3, 4, 5, 6, 7, 8, 9, 10, 11, 12])\n",
    "arr.sum()"
   ]
  },
  {
   "cell_type": "code",
   "execution_count": 43,
   "id": "24febca6-e0bf-42e2-89fe-d97370b276fa",
   "metadata": {},
   "outputs": [
    {
     "name": "stdout",
     "output_type": "stream",
     "text": [
      "[[ 1  2  3]\n",
      " [ 4  5  6]\n",
      " [ 7  8  9]\n",
      " [10 11 12]]\n"
     ]
    }
   ],
   "source": [
    "\n",
    "newarr = arr.reshape(4, 3)\n",
    "print(newarr)\n"
   ]
  },
  {
   "cell_type": "code",
   "execution_count": 44,
   "id": "dd3be129-9513-4ced-9ce2-52a8b10aace3",
   "metadata": {},
   "outputs": [
    {
     "name": "stdout",
     "output_type": "stream",
     "text": [
      "[0, 0, 0, 0]\n"
     ]
    }
   ],
   "source": [
    "\n",
    "asign = lambda t: 0 if t[:][:3].all()<5 else 1\n",
    "A = list(map(asign, newarr))\n",
    "print(A)"
   ]
  },
  {
   "cell_type": "code",
   "execution_count": null,
   "id": "fb03a6a0-d4e3-4951-9e16-75520ab83396",
   "metadata": {},
   "outputs": [],
   "source": []
  }
 ],
 "metadata": {
  "kernelspec": {
   "display_name": "Python 3 (ipykernel)",
   "language": "python",
   "name": "python3"
  },
  "language_info": {
   "codemirror_mode": {
    "name": "ipython",
    "version": 3
   },
   "file_extension": ".py",
   "mimetype": "text/x-python",
   "name": "python",
   "nbconvert_exporter": "python",
   "pygments_lexer": "ipython3",
   "version": "3.9.10"
  }
 },
 "nbformat": 4,
 "nbformat_minor": 5
}
