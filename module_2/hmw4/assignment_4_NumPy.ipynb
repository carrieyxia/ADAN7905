{
 "cells": [
  {
   "cell_type": "code",
   "execution_count": 2,
   "id": "dfea3244",
   "metadata": {},
   "outputs": [],
   "source": [
    "import numpy as np"
   ]
  },
  {
   "cell_type": "code",
   "execution_count": 4,
   "id": "6391a439",
   "metadata": {},
   "outputs": [
    {
     "name": "stdout",
     "output_type": "stream",
     "text": [
      "[[15839 49034 28913 27494 22249]\n",
      " [33993 15062 35298 25837 12352]\n",
      " [48935 39481 19453 36181 46147]\n",
      " [37114 23227 46410 25587 16880]\n",
      " [36348 10780 18072 35118 34470]\n",
      " [19477 42351 47131 38141 46203]\n",
      " [30948 34604 38116 28813 47759]\n",
      " [11466 39206 45908 22984 24283]\n",
      " [48067 42070 42067 12003 24130]\n",
      " [38112 39155 49822 35940 49116]\n",
      " [16172 38201 41932 35525 44202]\n",
      " [35481 49165 25363 24096 30094]\n",
      " [38093 24125 36795 49605 43871]\n",
      " [15169 40081 25972 23433 48817]\n",
      " [45201 34975 37507 45758 16497]\n",
      " [24136 10367 30192 15499 44671]\n",
      " [11941 19862 23637 16098 32884]\n",
      " [47542 43262 37568 44768 29113]\n",
      " [46217 27233 24345 21623 24735]\n",
      " [49987 24428 28461 42625 40008]]\n"
     ]
    }
   ],
   "source": [
    "# 1. Creates a 20 X 5 array, and seeds it with random integers between the value of 10000 and 50000 \n",
    "# with a seed of 7915.\n",
    "np.random.seed(7915)\n",
    "\n",
    "array = np.random.randint(10000,50000,size=(20, 5))\n",
    "print(array)"
   ]
  },
  {
   "cell_type": "code",
   "execution_count": 5,
   "id": "1e25b1b1",
   "metadata": {},
   "outputs": [
    {
     "name": "stdout",
     "output_type": "stream",
     "text": [
      "32333.45\n"
     ]
    }
   ],
   "source": [
    "# 2. What is the average value of the second column (to two decimal places)\n",
    "\n",
    "avg_second_column = np.mean(array[:,1])\n",
    "print(avg_second_column)"
   ]
  },
  {
   "cell_type": "code",
   "execution_count": 7,
   "id": "9fcc6afd",
   "metadata": {},
   "outputs": [
    {
     "name": "stdout",
     "output_type": "stream",
     "text": [
      "29836.3\n"
     ]
    }
   ],
   "source": [
    "# 3. What is the average value of the first 5 rows of the third and fourth columns?\n",
    "\n",
    "avg_value = np.mean(array[:5,2:4])\n",
    "print(avg_value)"
   ]
  },
  {
   "cell_type": "code",
   "execution_count": 8,
   "id": "3c54668d",
   "metadata": {},
   "outputs": [
    {
     "name": "stdout",
     "output_type": "stream",
     "text": [
      "[[48067 42070 42067 12003 24130]\n",
      " [24136 10367 30192 15499 44671]\n",
      " [11941 19862 23637 16098 32884]\n",
      " [46217 27233 24345 21623 24735]\n",
      " [11466 39206 45908 22984 24283]\n",
      " [15169 40081 25972 23433 48817]\n",
      " [35481 49165 25363 24096 30094]\n",
      " [37114 23227 46410 25587 16880]\n",
      " [33993 15062 35298 25837 12352]\n",
      " [15839 49034 28913 27494 22249]\n",
      " [30948 34604 38116 28813 47759]\n",
      " [36348 10780 18072 35118 34470]\n",
      " [16172 38201 41932 35525 44202]\n",
      " [38112 39155 49822 35940 49116]\n",
      " [48935 39481 19453 36181 46147]\n",
      " [19477 42351 47131 38141 46203]\n",
      " [49987 24428 28461 42625 40008]\n",
      " [47542 43262 37568 44768 29113]\n",
      " [45201 34975 37507 45758 16497]\n",
      " [38093 24125 36795 49605 43871]]\n"
     ]
    }
   ],
   "source": [
    "# 4. Sort the original array (20 X 5) by the 4th column\n",
    "sorted_array = array[array[:,3].argsort()]\n",
    "print(sorted_array)"
   ]
  },
  {
   "cell_type": "code",
   "execution_count": 11,
   "id": "8adc5c51",
   "metadata": {},
   "outputs": [
    {
     "name": "stdout",
     "output_type": "stream",
     "text": [
      "The maximum values along axis 0 (columns) are: [49987 49165 49822 49605 49116]\n",
      "The minimum values along axis 1 (rows) are: [15839 12352 19453 16880 10780 19477 28813 11466 12003 35940 16172 24096\n",
      " 24125 15169 16497 10367 11941 29113 21623 24428]\n"
     ]
    }
   ],
   "source": [
    "# 5. Find the maximum value along axis 0 (max for each column)\n",
    "max_axis_0 = np.max(array, axis=0)\n",
    "\n",
    "# Find the minimum value along axis 1 (min for each row)\n",
    "min_axis_1 = np.min(array, axis=1)\n",
    "\n",
    "print(f\"The maximum values along axis 0 (columns) are: {max_axis_0}\")\n",
    "print(f\"The minimum values along axis 1 (rows) are: {min_axis_1}\")"
   ]
  },
  {
   "cell_type": "code",
   "execution_count": 12,
   "id": "31833cbf",
   "metadata": {},
   "outputs": [
    {
     "name": "stdout",
     "output_type": "stream",
     "text": [
      "[[15839 49034 28913 27494 22249]\n",
      " [33993 15062 35298 25837 12352]\n",
      " [48935 39481 19453 36181 46147]\n",
      " [37114 23227 46410 25587 16880]\n",
      " [36348 10780 18072 35118 34470]]\n",
      "[[19477 42351 47131 38141 46203]\n",
      " [30948 34604 38116 28813 47759]\n",
      " [11466 39206 45908 22984 24283]\n",
      " [48067 42070 42067 12003 24130]\n",
      " [38112 39155 49822 35940 49116]]\n",
      "[[16172 38201 41932 35525 44202]\n",
      " [35481 49165 25363 24096 30094]\n",
      " [38093 24125 36795 49605 43871]\n",
      " [15169 40081 25972 23433 48817]\n",
      " [45201 34975 37507 45758 16497]]\n",
      "[[24136 10367 30192 15499 44671]\n",
      " [11941 19862 23637 16098 32884]\n",
      " [47542 43262 37568 44768 29113]\n",
      " [46217 27233 24345 21623 24735]\n",
      " [49987 24428 28461 42625 40008]]\n"
     ]
    }
   ],
   "source": [
    "# 6. Split the array in 4 equal sized array and print the each of them\n",
    "split_arrays = np.split(array, 4)\n",
    "\n",
    "for i in split_arrays:\n",
    "    print(i)"
   ]
  }
 ],
 "metadata": {
  "kernelspec": {
   "display_name": "Python 3 (ipykernel)",
   "language": "python",
   "name": "python3"
  },
  "language_info": {
   "codemirror_mode": {
    "name": "ipython",
    "version": 3
   },
   "file_extension": ".py",
   "mimetype": "text/x-python",
   "name": "python",
   "nbconvert_exporter": "python",
   "pygments_lexer": "ipython3",
   "version": "3.11.6"
  }
 },
 "nbformat": 4,
 "nbformat_minor": 5
}
