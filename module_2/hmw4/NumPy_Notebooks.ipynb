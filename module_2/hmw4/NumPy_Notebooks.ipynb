{
 "cells": [
  {
   "cell_type": "code",
   "execution_count": null,
   "id": "4d312bfd",
   "metadata": {},
   "outputs": [],
   "source": [
    "import numpy as np"
   ]
  },
  {
   "cell_type": "code",
   "execution_count": null,
   "id": "a0efda55",
   "metadata": {},
   "outputs": [],
   "source": [
    "# Accessing rows\n",
    "second_row = array[1, :]  # Accessing the entire second row ([4, 5, 6])\n",
    "\n",
    "# Accessing columns\n",
    "third_column = array[:, 2]  # Accessing the entire third column ([3, 6, 9])"
   ]
  },
  {
   "cell_type": "code",
   "execution_count": null,
   "id": "30e4c44a",
   "metadata": {},
   "outputs": [],
   "source": []
  }
 ],
 "metadata": {
  "kernelspec": {
   "display_name": "Python 3 (ipykernel)",
   "language": "python",
   "name": "python3"
  },
  "language_info": {
   "codemirror_mode": {
    "name": "ipython",
    "version": 3
   },
   "file_extension": ".py",
   "mimetype": "text/x-python",
   "name": "python",
   "nbconvert_exporter": "python",
   "pygments_lexer": "ipython3",
   "version": "3.11.6"
  }
 },
 "nbformat": 4,
 "nbformat_minor": 5
}
